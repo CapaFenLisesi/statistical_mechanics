{
 "cells": [
  {
   "cell_type": "code",
   "execution_count": 1,
   "metadata": {
    "collapsed": false
   },
   "outputs": [
    {
     "name": "stderr",
     "output_type": "stream",
     "text": [
      "/Users/trap/anaconda/lib/python2.7/site-packages/matplotlib/font_manager.py:273: UserWarning: Matplotlib is building the font cache using fc-list. This may take a moment.\n",
      "  warnings.warn('Matplotlib is building the font cache using fc-list. This may take a moment.')\n"
     ]
    }
   ],
   "source": [
    "import random, math\n",
    "import matplotlib.pyplot as plt"
   ]
  },
  {
   "cell_type": "code",
   "execution_count": 2,
   "metadata": {
    "collapsed": true
   },
   "outputs": [],
   "source": [
    "def direct_pi(N):\n",
    "  '''\n",
    "  Compute the number of hits when N-runs are performed on the Monte Carlo\n",
    "  children's game pebble algorithm using the direct sampling method.\n",
    "  '''\n",
    "  n_hits = 0\n",
    "  for i in range(N):\n",
    "    x, y = random.uniform(-1.0, 1.0), random.uniform(-1.0, 1.0)\n",
    "    if x ** 2 + y ** 2 < 1.0:\n",
    "      n_hits += 1\n",
    "  return n_hits"
   ]
  },
  {
   "cell_type": "code",
   "execution_count": 3,
   "metadata": {
    "collapsed": true
   },
   "outputs": [],
   "source": [
    "%matplotlib inline"
   ]
  },
  {
   "cell_type": "code",
   "execution_count": 4,
   "metadata": {
    "collapsed": false
   },
   "outputs": [
    {
     "data": {
      "image/png": "[encoded data removed]",
      "text/plain": [
       "<matplotlib.figure.Figure at 0x10f3c3f90>"
      ]
     },
     "metadata": {},
     "output_type": "display_data"
    }
   ],
   "source": [
    "# problem A1 \n",
    "n_runs   = 500\n",
    "n_trials_list = [] # for storing number of trials, with corresponding rms_deviation\n",
    "rms_deviation = [] # for storing rms_deviation as a function of trial numbers\n",
    "\n",
    "# run n_runs for each varying number of trials\n",
    "for power in range(4,13):\n",
    "  n_trials = 2 ** power\n",
    "  sigsq  = 0\n",
    "  \n",
    "  # for a specified number of runs, estimate pi, then accumulate rms error estimate\n",
    "  for run in range(n_runs):\n",
    "\n",
    "    # estimate pi\n",
    "    pi_i_est = 4.0 * direct_pi(n_trials) / float(n_trials)\n",
    "  \n",
    "    # accumulate sum for rms deviation\n",
    "    sigsq+=(pi_i_est-math.pi)**2\n",
    "\n",
    "  rms_deviation.append(math.sqrt(sigsq/n_runs))\n",
    "  n_trials_list.append(n_trials)\n",
    "\n",
    "plt.plot(n_trials_list,rms_deviation,'+r')\n",
    "plt.xscale('log')\n",
    "plt.yscale('log')\n",
    "plt.title('Direct sampling of pi: rms deviation vs. number of trials')\n",
    "plt.xlabel('number of trials')\n",
    "plt.ylabel('rms deviation')\n",
    "plt.savefig('A1-rms_deviation_vs_ntrials.png',dpi=300)\n",
    "plt.show() "
   ]
  },
  {
   "cell_type": "code",
   "execution_count": 5,
   "metadata": {
    "collapsed": false
   },
   "outputs": [
    {
     "data": {
      "image/png": "[encoded data removed]",
      "text/plain": [
       "<matplotlib.figure.Figure at 0x10f5ba0d0>"
      ]
     },
     "metadata": {},
     "output_type": "display_data"
    }
   ],
   "source": [
    "# problem A2: repeat A1, but overlay a line showing error decreases as 1.642/sqrt(N_trials)\n",
    "n_runs   = 500\n",
    "n_trials_list = [] # for storing number of trials, with corresponding rms_deviation\n",
    "rms_deviation = [] # for storing rms_deviation as a function of trial numbers\n",
    "\n",
    "# run n_runs for each varying number of trials\n",
    "for power in range(4,13):\n",
    "  n_trials = 2 ** power\n",
    "  sigsq  = 0\n",
    "  \n",
    "  # for a specified number of runs, estimate pi, then accumulate rms error estimate\n",
    "  for run in range(n_runs):\n",
    "\n",
    "    # estimate pi\n",
    "    pi_i_est = 4.0 * direct_pi(n_trials) / float(n_trials)\n",
    "  \n",
    "    # accumulate sum for rms deviation\n",
    "    sigsq+=(pi_i_est-math.pi)**2\n",
    "\n",
    "  rms_deviation.append(math.sqrt(sigsq/n_runs))\n",
    "  n_trials_list.append(n_trials)\n",
    "\n",
    "plt.plot(n_trials_list,rms_deviation,'+r')\n",
    "plt.plot([10.0, 10000.0], [1.642 / math.sqrt(10.0), 1.642 / math.sqrt(10000.0)])\n",
    "plt.xscale('log')\n",
    "plt.yscale('log')\n",
    "plt.title('Direct sampling of pi: rms deviation vs. number of trials')\n",
    "plt.xlabel('number of trials')\n",
    "plt.ylabel('rms deviation')\n",
    "plt.savefig('A2-rms_deviation_vs_ntrials.png',dpi=300)\n",
    "plt.show() "
   ]
  },
  {
   "cell_type": "code",
   "execution_count": 6,
   "metadata": {
    "collapsed": true
   },
   "outputs": [],
   "source": [
    "def markov_pi(N, delta): \n",
    "    '''\n",
    "    Compute the number of hits when N-runs are performed on the Monte Carlo\n",
    "    children's game pebble algorithm using the direct sampling method.\n",
    "    '''\n",
    "    x, y = 1.0, 1.0\n",
    "    n_hits = 0\n",
    "    for i in range(N):\n",
    "        del_x, del_y = random.uniform(-delta, delta), random.uniform(-delta, delta)\n",
    "        if abs(x + del_x) < 1.0 and abs(y + del_y) < 1.0:\n",
    "            x, y = x + del_x, y + del_y\n",
    "        if x**2 + y**2 < 1.0: n_hits += 1\n",
    "    return n_hits"
   ]
  },
  {
   "cell_type": "code",
   "execution_count": 25,
   "metadata": {
    "collapsed": false
   },
   "outputs": [
    {
     "data": {
      "image/png": "[encoded data removed]",
      "text/plain": [
       "<matplotlib.figure.Figure at 0x11bc03bd0>"
      ]
     },
     "metadata": {},
     "output_type": "display_data"
    }
   ],
   "source": [
    "# problem B1: repeat A1, but use the Markov-chain sampling algorithm while \n",
    "#             analyzing the effects of step size\n",
    "\n",
    "n_runs   = 500\n",
    "step_sizes    = [0.062,0.125,0.25,0.5,1.0,2.0,4.0] # step sizes for markov-chain sampling\n",
    "\n",
    "plt.figure(figsize=[10,4])\n",
    "\n",
    "\n",
    "    \n",
    "# for each step size option\n",
    "for delta in step_sizes:\n",
    "    \n",
    "    n_trials_list = [] # for storing number of trials, with corresponding rms_deviation\n",
    "    rms_deviation = [] # for storing rms_deviation as a function of trial numbers  \n",
    "    \n",
    "    # run n_runs for each varying number of trials\n",
    "    for power in range(4,13):\n",
    "        \n",
    "        n_trials = 2 ** power\n",
    "        sigsq  = 0.0 \n",
    "        \n",
    "        # for a specified number of runs, estimate pi, then accumulate rms error estimate\n",
    "        for run in range(n_runs):\n",
    "\n",
    "            # estimate pi\n",
    "            pi_i_est = 4.0 * markov_pi(n_trials,delta) / float(n_trials)\n",
    "\n",
    "            # accumulate sum for rms deviation\n",
    "            sigsq+=(pi_i_est-math.pi)**2\n",
    "            \n",
    "        n_trials_list.append(n_trials)\n",
    "        rms_deviation.append(math.sqrt(sigsq/n_runs))\n",
    "    \n",
    "    # plot rms-deviation for this step size\n",
    "    plt.plot(n_trials_list,rms_deviation,'o',ms=8,label='$\\delta= $'+str(delta))\n",
    "\n",
    "plt.xscale('log')\n",
    "plt.yscale('log')\n",
    "plt.title('Direct sampling of pi: rms deviation vs. number of trials for varying step sizes')\n",
    "plt.xlabel('number of trials')\n",
    "plt.ylabel('rms deviation')\n",
    "pylab.plot([10,10000],[1.642 / math.sqrt(10.0), 1.642 / math.sqrt(10000.0)], label = 'direct')\n",
    "plt.legend(loc=2)\n",
    "plt.savefig('B1-rms_deviation_vs_ntrials.png',dpi=300)\n",
    "plt.show() "
   ]
  },
  {
   "cell_type": "code",
   "execution_count": 24,
   "metadata": {
    "collapsed": false
   },
   "outputs": [
    {
     "data": {
      "image/png": "[encoded data removed]",
      "text/plain": [
       "<matplotlib.figure.Figure at 0x11bba2950>"
      ]
     },
     "metadata": {},
     "output_type": "display_data"
    }
   ],
   "source": [
    "import random, math, pylab\n",
    "\n",
    "def markov_pi(N, delta):\n",
    "    x, y = 1.0, 1.0\n",
    "    n_hits = 0\n",
    "    for i in range(N):\n",
    "        del_x, del_y = random.uniform(-delta, delta), random.uniform(-delta, delta)\n",
    "        if abs(x + del_x) < 1.0 and abs(y + del_y) < 1.0:\n",
    "            x, y = x + del_x, y + del_y\n",
    "        if x**2 + y**2 < 1.0: n_hits += 1\n",
    "    return n_hits\n",
    "\n",
    "n_runs = 500\n",
    "for delta in [0.062, 0.125, 0.25, 0.5, 1.0, 2.0, 4.0]:\n",
    "    n_trials_list = []\n",
    "    sigmas = []\n",
    "    for poweroftwo in range(4, 13):\n",
    "        n_trials = 2 ** poweroftwo\n",
    "        sigma = 0.0\n",
    "        for run in range(n_runs):\n",
    "            pi_est = 4.0 * markov_pi(n_trials, delta) / float(n_trials)\n",
    "            sigma += (pi_est - math.pi) ** 2\n",
    "        sigmas.append(math.sqrt(sigma/(n_runs)))\n",
    "        n_trials_list.append(n_trials)\n",
    "    pylab.plot(n_trials_list, sigmas, 'o', ms = 8, label = '$\\delta = $' + str(delta))\n",
    "\n",
    "pylab.xscale('log')\n",
    "pylab.yscale('log')\n",
    "pylab.xlabel('number of trials')\n",
    "pylab.ylabel('root mean square deviation')\n",
    "pylab.plot([10,10000],[1.642 / math.sqrt(10.0), 1.642 / math.sqrt(10000.0)], label = 'direct')\n",
    "pylab.title('Markov-chain sampling of pi: root mean square deviation vs. n_trials')\n",
    "pylab.legend(loc='upper right')\n",
    "pylab.savefig('markov_sampling_rms_deviation.png')\n",
    "pylab.show()"
   ]
  },
  {
   "cell_type": "code",
   "execution_count": 40,
   "metadata": {
    "collapsed": false
   },
   "outputs": [
    {
     "name": "stdout",
     "output_type": "stream",
     "text": [
      "delta  | acceptance rate\n",
      "0.0620 | 0.941650\n",
      "0.1250 | 0.947510\n",
      "0.2500 | 0.901123\n",
      "0.5000 | 0.752441\n",
      "1.0000 | 0.556152\n",
      "2.0000 | 0.244141\n",
      "4.0000 | 0.068848\n"
     ]
    }
   ],
   "source": [
    "# problem B2: 1/2 thumb rule\n",
    "# half the moves are accepted, and half are rejected.\n",
    "\n",
    "def markov_pi_hits_and_acceptance_ratio(N, delta):\n",
    "    x, y = 1.0, 1.0\n",
    "    n_hits = 0\n",
    "    inliers= 0.0 # number of samples in the square\n",
    "    for i in range(N):\n",
    "        del_x, del_y = random.uniform(-delta, delta), random.uniform(-delta, delta)\n",
    "        if abs(x + del_x) < 1.0 and abs(y + del_y) < 1.0:\n",
    "            x, y = x + del_x, y + del_y\n",
    "            inliers+=1\n",
    "        if x**2 + y**2 < 1.0: n_hits += 1\n",
    "    acceptance_ratio=inliers/float(N)\n",
    "    return n_hits,acceptance_ratio\n",
    "\n",
    "# step sizes for markov-chain sampling\n",
    "step_sizes    = [0.062,0.125,0.25,0.5,1.0,2.0,4.0] \n",
    "\n",
    "# number of trials for a single run\n",
    "n_trials = 2 ** 12\n",
    "\n",
    "# for each step size option\n",
    "print('delta  | acceptance rate')\n",
    "for delta in step_sizes:\n",
    "\n",
    "    # get number of hits \n",
    "    n_hits,acceptance_ratio=markov_pi_hits_and_acceptance_ratio(n_trials,delta)\n",
    "\n",
    "    # estimate pi\n",
    "    pi_est = 4.0 * float(n_hits) / float(n_trials)\n",
    "    \n",
    "    # print\n",
    "    #print('delta %2.4f and acceptance ratio = %f'%(delta,acceptance_ratio))\n",
    "    print('%2.4f | %f'%(delta,acceptance_ratio))\n",
    "\n",
    "\n",
    "\n",
    "            \n",
    "            \n"
   ]
  },
  {
   "cell_type": "markdown",
   "metadata": {},
   "source": [
    "My acceptance rates for each step size are given below:\n",
    "\n",
    "delta | acceptance rate \n",
    "0.0620 | 0.974609 \n",
    "0.1250 | 0.952881 \n",
    "0.2500 | 0.879150 \n",
    "0.5000 | 0.769043 \n",
    "1.0000 | 0.548584 \n",
    "2.0000 | 0.253906 \n",
    "4.0000 | 0.060303\n",
    "\n",
    "The acceptance rate was computed by counting how many times a sample was in the square boundaries, the first conditional in markov_pi.py.\n",
    "\n",
    "Comparing with the figure from B1, I see that the step size delta=1.0 is closest to 1/2=0.5.  The step size of delta=1.0 gives the smallest rms deviation as shown in B1, indicating that an acceptance rate of 1/2 is evidence of a 'good' step size."
   ]
  },
  {
   "cell_type": "markdown",
   "metadata": {},
   "source": [
    "## The bunching method\n",
    "\n",
    "\"In section A, we saw that the error of direct_pi behaves as 1.642 / sqrt(N_trials)while, in Section B, we noticed that the error of markov_pi follows the law: const / sqrt(N_trials)for large N_trials. The constant is larger (sometimes much larger) than 1.642 and it depends on the stepsize delta.In this Section we understand what the value 1.642 means and how we can compute it with and without knowing the mathematical value of pi. We then find a good way to compute the error in markov_pi.py from a single run and without knowing the mathematical value of pi . This is the bunching method.\""
   ]
  },
  {
   "cell_type": "code",
   "execution_count": 44,
   "metadata": {
    "collapsed": false
   },
   "outputs": [
    {
     "name": "stdout",
     "output_type": "stream",
     "text": [
      "computed pi=3.140660 with standard deviation=0.858407\n"
     ]
    }
   ],
   "source": [
    "# problem C1: bunching method (with known value of pi)\n",
    "import random, math\n",
    "n_trials = 400000\n",
    "n_hits = 0\n",
    "var = 0.0\n",
    "for iter in range(n_trials):\n",
    "    x, y = random.uniform(-1.0, 1.0), random.uniform(-1.0, 1.0)\n",
    "    # this is the \"relevant observable\"\n",
    "    obs = 0.0  # for estimating pi this is 4.0 inside circle and 0.0 outside\n",
    "    if x**2 + y**2 < 1.0:\n",
    "        n_hits += 1\n",
    "        obs = 4.0\n",
    "    # note that the TRUE value of pi is used to estimate uncertainty -> not the case in the RL\n",
    "    var += (Obs - math.pi)**2 # the variance of the observable is used as a way to estimate uncertainty in pi\n",
    "print('computed pi=%f with standard deviation=%f'%(4.0 * n_hits / float(n_trials), math.sqrt(var / n_trials)))"
   ]
  },
  {
   "cell_type": "markdown",
   "metadata": {},
   "source": [
    "I computed pi=3.143280 with a standard deviation of 1.641010 using the bunching method for estimating pi in problem C1."
   ]
  },
  {
   "cell_type": "code",
   "execution_count": 55,
   "metadata": {
    "collapsed": false
   },
   "outputs": [
    {
     "name": "stdout",
     "output_type": "stream",
     "text": [
      "computed mean(obs)=3.140300\n",
      "computed mean(obs^2)=3.140300\n",
      "difference mean(obs^2)-mean(obs)^2=2.699716\n",
      "sqrt(mean(obs^2)-mean(obs)^2)=1.643081\n"
     ]
    }
   ],
   "source": [
    "# problem C2: bunching method (with unkown value of pi)\n",
    "# this is in problem_C2.py in this folder\n",
    "# the error in the direct sampling method is in general constant/sqrt(number of trials)\n",
    "import random, math\n",
    "n_trials = 400000\n",
    "n_hits = 0\n",
    "var = 0.0\n",
    "mean_obs=0.0\n",
    "mean_obs_squared=0.0\n",
    "for iter in range(n_trials):\n",
    "    x, y = random.uniform(-1.0, 1.0), random.uniform(-1.0, 1.0)\n",
    "    # this is the \"relevant observable\"\n",
    "    obs = 0.0  # for estimating pi this is 4.0 inside circle and 0.0 outside\n",
    "    if x**2 + y**2 < 1.0:\n",
    "        n_hits += 1\n",
    "        obs = 4.0\n",
    "    mean_obs        +=obs\n",
    "    mean_obs_squared+=obs**2.0\n",
    "    \n",
    "mean_obs/=n_trials\n",
    "mean_obs_squared/=n_trials\n",
    "mean_obs_diff=mean_obs_squared-mean_obs**2.0\n",
    "\n",
    "print('computed mean(obs)=%f'%(mean_obs))\n",
    "print('computed mean(obs^2)=%f'%(mean_obs))\n",
    "print('difference mean(obs^2)-mean(obs)^2=%f'%(mean_obs_diff))\n",
    "print('sqrt(mean(obs^2)-mean(obs)^2)=%f'%(math.sqrt(mean_obs_diff)))\n",
    "\n",
    "\n"
   ]
  },
  {
   "cell_type": "markdown",
   "metadata": {},
   "source": [
    "'The previous Section C2 gives a general solution for the direct-sampling, and we now have to do the same for Markov chains. As we saw in Section B1, the error is again as const / sqrt(N_trials), but the constant does not equal 1.664, it may be much larger. Nevertheless, as the distribution of pebbles is the same in the direct-sampling and in Markov-chain sampling, the variance and the standard deviation are the same. The quantity sigma / sqrt(N_trials) strongly UNDERESTIMATES the error, as we saw in Section B1. **This is due to the correlation between subsequent samples**.  To estimate the error of a Markov-chain simulation that has obtained observables Obs_0, Obs_1,...,Obs_(n_trials -1), we should rather BUNCH the data, as follows:\n",
    "\n",
    "(Obs_0 + Obs_1)/2, (Obs_2 + Obs_3)/2, ..., (Obs_(n_trials -2) + Obs_(n_trials -1))/2\n",
    "\n",
    "This gives a new chain of data, with new observables (mean value of two subsequent old ones), a new number of trials that is half the old one, an unchanged mean value, but a new value of the variance, and a new estimate of the error, using the naive formula for direct sampling.This famous bunching procedure can then be iterated, making pairs, then pairs of pairs, then pairs of pairs of pairs. This very successful algorithm is implemented for a long sequence of data produced by markov_pi.py ( x_i = 4 if it corresponds to a hit, and x_i = 0 otherwise) in the below program, that is again provided for convenience. Copy and past this program into a file and run it.'"
   ]
  },
  {
   "cell_type": "code",
   "execution_count": 71,
   "metadata": {
    "collapsed": false
   },
   "outputs": [
    {
     "name": "stdout",
     "output_type": "stream",
     "text": [
      "constant we have = 1.623974\n",
      "3.16735076904 mean value, estimate of pi\n",
      "constant we have = 1.558024\n",
      "3.16735076904 mean value, estimate of pi\n",
      "constant we have = 1.498420\n",
      "3.16735076904 mean value, estimate of pi\n",
      "constant we have = 1.432608\n",
      "3.16735076904 mean value, estimate of pi\n",
      "constant we have = 1.354128\n",
      "3.16735076904 mean value, estimate of pi\n",
      "constant we have = 1.256559\n",
      "3.16735076904 mean value, estimate of pi\n",
      "constant we have = 1.127674\n",
      "3.16735076904 mean value, estimate of pi\n",
      "constant we have = 0.966847\n",
      "3.16735076904 mean value, estimate of pi\n",
      "constant we have = 0.771645\n",
      "3.16735076904 mean value, estimate of pi\n",
      "constant we have = 0.578068\n",
      "3.16735076904 mean value, estimate of pi\n",
      "constant we have = 0.421987\n",
      "3.16735076904 mean value, estimate of pi\n",
      "constant we have = 0.298137\n",
      "3.16735076904 mean value, estimate of pi\n",
      "constant we have = 0.207435\n",
      "3.16735076904 mean value, estimate of pi\n",
      "constant we have = 0.150008\n",
      "3.16735076904 mean value, estimate of pi\n",
      "constant we have = 0.101021\n",
      "3.16735076904 mean value, estimate of pi\n",
      "constant we have = 0.060568\n",
      "3.16735076904 mean value, estimate of pi\n",
      "constant we have = 0.038798\n",
      "3.16735076904 mean value, estimate of pi\n",
      "constant we have = 0.032009\n",
      "3.16735076904 mean value, estimate of pi\n",
      "constant we have = 0.016469\n",
      "3.16735076904 mean value, estimate of pi\n",
      "constant we have = 0.000641\n",
      "3.16735076904 mean value, estimate of pi\n"
     ]
    },
    {
     "data": {
      "image/png": "[encoded data removed]",
      "text/plain": [
       "<matplotlib.figure.Figure at 0x118843750>"
      ]
     },
     "metadata": {},
     "output_type": "display_data"
    }
   ],
   "source": [
    "import random, pylab, math\n",
    "\n",
    "def markov_pi_all_data(N, delta):\n",
    "    x, y = 1.0, 1.0\n",
    "    data = []\n",
    "    for i in range(N):\n",
    "        del_x, del_y = random.uniform(-delta, delta), random.uniform(-delta, delta)\n",
    "        if abs(x + del_x) < 1.0 and abs(y + del_y) < 1.0:\n",
    "            x, y = x + del_x, y + del_y\n",
    "        if x ** 2 + y ** 2 < 1.0:\n",
    "            data.append(4.0)\n",
    "        else:\n",
    "            data.append(0.0)\n",
    "    return data\n",
    "\n",
    "poweroftwo = 20\n",
    "n_trials = 2 ** poweroftwo\n",
    "delta = 0.1\n",
    "data = markov_pi_all_data(n_trials, delta)\n",
    "errors  = []\n",
    "bunches = []\n",
    "for i in range(poweroftwo):\n",
    "    new_data = []\n",
    "    mean = 0.0\n",
    "    mean_sq = 0.0\n",
    "    N = len(data)\n",
    "    \n",
    "    # bunch each adjacent data point, \n",
    "    # creating a new data chain that is half as long.\n",
    "    while data != []:\n",
    "        x = data.pop()\n",
    "        y = data.pop()\n",
    "        mean += x + y\n",
    "        mean_sq += x ** 2 + y ** 2 # note that this observable values squared for two points\n",
    "        new_data.append((x + y) / 2.0 )\n",
    "    # compute the apparent errors based on the mean, mean squared, and current number of trials\n",
    "    print('constant we have = %f'%math.sqrt(mean_sq / N - (mean / N) ** 2))\n",
    "    errors.append(math.sqrt(mean_sq / N - (mean / N) ** 2) / math.sqrt(N))\n",
    "    bunches.append(i)\n",
    "    data = new_data[:]\n",
    "    print mean / float(N), 'mean value, estimate of pi'\n",
    "pylab.plot(bunches, errors, 'o')\n",
    "pylab.xlabel('iteration')\n",
    "pylab.ylabel('apparent error')\n",
    "pylab.title('Bunching: naive error vs iteration number')\n",
    "pylab.savefig('apparent_error_bunching.png')\n",
    "pylab.show()"
   ]
  },
  {
   "cell_type": "markdown",
   "metadata": {},
   "source": [
    "'The program produces a plot of naive (apparent) error against the iteration of the bunching procedure.The observed error is found to increase with the iterations, then exhibits a plateau (to see this you may have to run the program several times). This plateau is an excellent estimation of the true error of a single Markov chain output. Run this program, then'"
   ]
  },
  {
   "cell_type": "code",
   "execution_count": 72,
   "metadata": {
    "collapsed": false
   },
   "outputs": [
    {
     "name": "stdout",
     "output_type": "stream",
     "text": [
      "abs(est-true)=0.025758\n"
     ]
    }
   ],
   "source": [
    "pi_est=mean/float(N)\n",
    "pi_true=math.pi\n",
    "print('abs(est-true)=%f'%abs(pi_est-pi_true))"
   ]
  },
  {
   "cell_type": "code",
   "execution_count": 61,
   "metadata": {
    "collapsed": false
   },
   "outputs": [
    {
     "ename": "NameError",
     "evalue": "name 'error' is not defined",
     "output_type": "error",
     "traceback": [
      "\u001b[0;31m---------------------------------------------------------------------------\u001b[0m",
      "\u001b[0;31mNameError\u001b[0m                                 Traceback (most recent call last)",
      "\u001b[0;32m<ipython-input-61-899fb4c51d0d>\u001b[0m in \u001b[0;36m<module>\u001b[0;34m()\u001b[0m\n\u001b[0;32m----> 1\u001b[0;31m \u001b[0merror\u001b[0m\u001b[0;34m\u001b[0m\u001b[0m\n\u001b[0m",
      "\u001b[0;31mNameError\u001b[0m: name 'error' is not defined"
     ]
    }
   ],
   "source": [
    "error"
   ]
  },
  {
   "cell_type": "code",
   "execution_count": null,
   "metadata": {
    "collapsed": true
   },
   "outputs": [],
   "source": []
  }
 ],
 "metadata": {
  "kernelspec": {
   "display_name": "Python 2",
   "language": "python",
   "name": "python2"
  },
  "language_info": {
   "codemirror_mode": {
    "name": "ipython",
    "version": 2
   },
   "file_extension": ".py",
   "mimetype": "text/x-python",
   "name": "python",
   "nbconvert_exporter": "python",
   "pygments_lexer": "ipython2",
   "version": "2.7.11"
  }
 },
 "nbformat": 4,
 "nbformat_minor": 0
}
