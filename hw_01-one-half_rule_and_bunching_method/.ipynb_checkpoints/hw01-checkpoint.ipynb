{
 "cells": [
  {
   "cell_type": "code",
   "execution_count": 5,
   "metadata": {
    "collapsed": false
   },
   "outputs": [],
   "source": [
    "import random, math\n",
    "import matplotlib.pyplot as plt"
   ]
  },
  {
   "cell_type": "code",
   "execution_count": 6,
   "metadata": {
    "collapsed": true
   },
   "outputs": [],
   "source": [
    "def direct_pi(N):\n",
    "  '''\n",
    "  Compute the number of hits when N-runs are performed on the Monte Carlo\n",
    "  children's game pebble algorithm using the direct sampling method.\n",
    "  '''\n",
    "  n_hits = 0\n",
    "  for i in range(N):\n",
    "    x, y = random.uniform(-1.0, 1.0), random.uniform(-1.0, 1.0)\n",
    "    if x ** 2 + y ** 2 < 1.0:\n",
    "      n_hits += 1\n",
    "  return n_hits"
   ]
  },
  {
   "cell_type": "code",
   "execution_count": 7,
   "metadata": {
    "collapsed": true
   },
   "outputs": [],
   "source": [
    "%matplotlib inline"
   ]
  },
  {
   "cell_type": "code",
   "execution_count": 13,
   "metadata": {
    "collapsed": false
   },
   "outputs": [
    {
     "data": {
      "image/png": "[encoded data removed]",
      "text/plain": [
       "<matplotlib.figure.Figure at 0x1166e3810>"
      ]
     },
     "metadata": {},
     "output_type": "display_data"
    }
   ],
   "source": [
    "# problem A1 \n",
    "n_runs   = 500\n",
    "n_trials_list = [] # for storing number of trials, with corresponding rms_deviation\n",
    "rms_deviation = [] # for storing rms_deviation as a function of trial numbers\n",
    "\n",
    "# run n_runs for each varying number of trials\n",
    "for power in range(4,13):\n",
    "  n_trials = 2 ** power\n",
    "  sigsq  = 0\n",
    "  \n",
    "  # for a specified number of runs, estimate pi, then accumulate rms error estimate\n",
    "  for run in range(n_runs):\n",
    "\n",
    "    # estimate pi\n",
    "    pi_i_est = 4.0 * direct_pi(n_trials) / float(n_trials)\n",
    "  \n",
    "    # accumulate sum for rms deviation\n",
    "    sigsq+=(pi_i_est-math.pi)**2\n",
    "\n",
    "  rms_deviation.append(math.sqrt(sigsq/n_runs))\n",
    "  n_trials_list.append(n_trials)\n",
    "\n",
    "plt.plot(n_trials_list,rms_deviation,'+r')\n",
    "plt.xscale('log')\n",
    "plt.yscale('log')\n",
    "plt.title('Direct sampling of pi: rms deviation vs. number of trials')\n",
    "plt.xlabel('number of trials')\n",
    "plt.ylabel('rms deviation')\n",
    "plt.savefig('A1-rms_deviation_vs_ntrials.png',dpi=300)\n",
    "plt.show() "
   ]
  },
  {
   "cell_type": "code",
   "execution_count": 12,
   "metadata": {
    "collapsed": false
   },
   "outputs": [
    {
     "data": {
      "image/png": "[encoded data removed]",
      "text/plain": [
       "<matplotlib.figure.Figure at 0x11e0ac150>"
      ]
     },
     "metadata": {},
     "output_type": "display_data"
    }
   ],
   "source": [
    "# problem A2: repeat A1, but overlay a line showing error decreases as 1.642/sqrt(N_trials)\n",
    "n_runs   = 500\n",
    "n_trials_list = [] # for storing number of trials, with corresponding rms_deviation\n",
    "rms_deviation = [] # for storing rms_deviation as a function of trial numbers\n",
    "\n",
    "# run n_runs for each varying number of trials\n",
    "for power in range(4,13):\n",
    "  n_trials = 2 ** power\n",
    "  sigsq  = 0\n",
    "  \n",
    "  # for a specified number of runs, estimate pi, then accumulate rms error estimate\n",
    "  for run in range(n_runs):\n",
    "\n",
    "    # estimate pi\n",
    "    pi_i_est = 4.0 * direct_pi(n_trials) / float(n_trials)\n",
    "  \n",
    "    # accumulate sum for rms deviation\n",
    "    sigsq+=(pi_i_est-math.pi)**2\n",
    "\n",
    "  rms_deviation.append(math.sqrt(sigsq/n_runs))\n",
    "  n_trials_list.append(n_trials)\n",
    "\n",
    "plt.plot(n_trials_list,rms_deviation,'+r')\n",
    "plt.plot([10.0, 10000.0], [1.642 / math.sqrt(10.0), 1.642 / math.sqrt(10000.0)])\n",
    "plt.xscale('log')\n",
    "plt.yscale('log')\n",
    "plt.title('Direct sampling of pi: rms deviation vs. number of trials')\n",
    "plt.xlabel('number of trials')\n",
    "plt.ylabel('rms deviation')\n",
    "plt.savefig('A2-rms_deviation_vs_ntrials.png',dpi=300)\n",
    "plt.show() "
   ]
  },
  {
   "cell_type": "code",
   "execution_count": 14,
   "metadata": {
    "collapsed": true
   },
   "outputs": [],
   "source": [
    "def markov_pi(N, delta): \n",
    "    '''\n",
    "    Compute the number of hits when N-runs are performed on the Monte Carlo\n",
    "    children's game pebble algorithm using the direct sampling method.\n",
    "    '''\n",
    "    x, y = 1.0, 1.0\n",
    "    n_hits = 0\n",
    "    for i in range(N):\n",
    "        del_x, del_y = random.uniform(-delta, delta), random.uniform(-delta, delta)\n",
    "        if abs(x + del_x) < 1.0 and abs(y + del_y) < 1.0:\n",
    "            x, y = x + del_x, y + del_y\n",
    "        if x**2 + y**2 < 1.0: n_hits += 1\n",
    "    return n_hits"
   ]
  },
  {
   "cell_type": "code",
   "execution_count": 15,
   "metadata": {
    "collapsed": false
   },
   "outputs": [
    {
     "ename": "TypeError",
     "evalue": "markov_pi() takes exactly 2 arguments (1 given)",
     "output_type": "error",
     "traceback": [
      "\u001b[0;31m---------------------------------------------------------------------------\u001b[0m",
      "\u001b[0;31mTypeError\u001b[0m                                 Traceback (most recent call last)",
      "\u001b[0;32m<ipython-input-15-046866e09e72>\u001b[0m in \u001b[0;36m<module>\u001b[0;34m()\u001b[0m\n\u001b[1;32m     19\u001b[0m             \u001b[0mrms_deviation\u001b[0m \u001b[0;34m=\u001b[0m \u001b[0;34m[\u001b[0m\u001b[0;34m]\u001b[0m \u001b[0;31m# for storing rms_deviation as a function of trial numbers\u001b[0m\u001b[0;34m\u001b[0m\u001b[0m\n\u001b[1;32m     20\u001b[0m             \u001b[0;31m# estimate pi\u001b[0m\u001b[0;34m\u001b[0m\u001b[0;34m\u001b[0m\u001b[0m\n\u001b[0;32m---> 21\u001b[0;31m             \u001b[0mpi_i_est\u001b[0m \u001b[0;34m=\u001b[0m \u001b[0;36m4.0\u001b[0m \u001b[0;34m*\u001b[0m \u001b[0mmarkov_pi\u001b[0m\u001b[0;34m(\u001b[0m\u001b[0mn_trials\u001b[0m\u001b[0;34m)\u001b[0m \u001b[0;34m/\u001b[0m \u001b[0mfloat\u001b[0m\u001b[0;34m(\u001b[0m\u001b[0mn_trials\u001b[0m\u001b[0;34m)\u001b[0m\u001b[0;34m\u001b[0m\u001b[0m\n\u001b[0m\u001b[1;32m     22\u001b[0m \u001b[0;34m\u001b[0m\u001b[0m\n\u001b[1;32m     23\u001b[0m             \u001b[0;31m# accumulate sum for rms deviation\u001b[0m\u001b[0;34m\u001b[0m\u001b[0;34m\u001b[0m\u001b[0m\n",
      "\u001b[0;31mTypeError\u001b[0m: markov_pi() takes exactly 2 arguments (1 given)"
     ]
    }
   ],
   "source": [
    "# problem B1: repeat A1, but use the Markov-chain sampling algorithm while \n",
    "#             analyzing the effects of step size\n",
    "\n",
    "n_runs   = 500\n",
    "\n",
    "step_sizes    = [0.062,0.125,0.25,0.5,1.0,2.0,4.0] # step sizes for markov-chain sampling\n",
    "\n",
    "# run n_runs for each varying number of trials\n",
    "for power in range(4,13):\n",
    "    n_trials = 2 ** power\n",
    "    sigsq  = 0\n",
    "    \n",
    "    # for each step size option\n",
    "    for delta in step_sizes:\n",
    "  \n",
    "        # for a specified number of runs, estimate pi, then accumulate rms error estimate\n",
    "        for run in range(n_runs):\n",
    "            n_trials_list = [] # for storing number of trials, with corresponding rms_deviation\n",
    "            rms_deviation = [] # for storing rms_deviation as a function of trial numbers\n",
    "            # estimate pi\n",
    "            pi_i_est = 4.0 * markov_pi(n_trials) / float(n_trials)\n",
    "\n",
    "            # accumulate sum for rms deviation\n",
    "            sigsq+=(pi_i_est-math.pi)**2\n",
    "        rms_deviation.append(math.sqrt(sigsq/n_runs))\n",
    "        n_trials_list.append(n_trials)\n",
    "    \n",
    "    # plot rms-deviation for this step size\n",
    "    plt.plot(n_trials_list,sigsq,'o',ms=8,label='$\\delta= $'+str(delta))\n",
    "\n",
    "plt.plot([10.0, 10000.0], [1.642 / math.sqrt(10.0), 1.642 / math.sqrt(10000.0)])\n",
    "plt.xscale('log')\n",
    "plt.yscale('log')\n",
    "plt.title('Direct sampling of pi: rms deviation vs. number of trials')\n",
    "plt.xlabel('number of trials')\n",
    "plt.ylabel('rms deviation')\n",
    "plt.savefig('B1-rms_deviation_vs_ntrials.png',dpi=300)\n",
    "plt.show() "
   ]
  },
  {
   "cell_type": "code",
   "execution_count": null,
   "metadata": {
    "collapsed": true
   },
   "outputs": [],
   "source": []
  }
 ],
 "metadata": {
  "kernelspec": {
   "display_name": "Python 2",
   "language": "python",
   "name": "python2"
  },
  "language_info": {
   "codemirror_mode": {
    "name": "ipython",
    "version": 2
   },
   "file_extension": ".py",
   "mimetype": "text/x-python",
   "name": "python",
   "nbconvert_exporter": "python",
   "pygments_lexer": "ipython2",
   "version": "2.7.11"
  }
 },
 "nbformat": 4,
 "nbformat_minor": 0
}
