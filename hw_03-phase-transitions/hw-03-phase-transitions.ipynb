{
 "cells": [
  {
   "cell_type": "code",
   "execution_count": 17,
   "metadata": {
    "collapsed": false
   },
   "outputs": [
    {
     "data": {
      "image/png": "[encoded data removed]",
      "text/plain": [
       "<matplotlib.figure.Figure at 0x110ff4050>"
      ]
     },
     "metadata": {},
     "output_type": "display_data"
    }
   ],
   "source": [
    "# prep program 1\n",
    "import pylab\n",
    "def show_conf(L, sigma, title, fname):\n",
    "    pylab.axes()\n",
    "    c=0\n",
    "    for [x, y] in L:\n",
    "        for ix in range(-1, 2):\n",
    "            for iy in range(-1, 2):\n",
    "                cir = pylab.Circle((x + ix, y + iy), radius=sigma,  fc='r')\n",
    "                pylab.gca().add_patch(cir)\n",
    "                c+=1\n",
    "    pylab.axis('scaled')\n",
    "    pylab.title(title)\n",
    "    pylab.axis([0.0, 1.0, 0.0, 1.0])\n",
    "    pylab.savefig(fname)\n",
    "    pylab.show()\n",
    "    pylab.close()\n",
    "\n",
    "L = [[0.9, 0.9]]\n",
    "sigma = 0.4\n",
    "show_conf(L, sigma, 'test graph', 'one_disk.png')"
   ]
  },
  {
   "cell_type": "code",
   "execution_count": 25,
   "metadata": {
    "collapsed": false
   },
   "outputs": [
    {
     "name": "stdout",
     "output_type": "stream",
     "text": [
      "starting from file disk_configuration.txt\n"
     ]
    }
   ],
   "source": [
    "# prep program 2:\n",
    "import os, random\n",
    "\n",
    "filename = 'disk_configuration.txt'\n",
    "if os.path.isfile(filename):\n",
    "    f = open(filename, 'r')\n",
    "    L = []\n",
    "    for line in f:\n",
    "        a, b = line.split()\n",
    "        L.append([float(a), float(b)])\n",
    "    f.close()\n",
    "    print 'starting from file', filename\n",
    "else:\n",
    "    L = []\n",
    "    for k in range(3):\n",
    "        L.append([random.uniform(0.0, 1.0), random.uniform(0.0, 1.0)])\n",
    "    print 'starting from a new random configuration'\n",
    "\n",
    "L[0][0] = 3.3\n",
    "f = open(filename, 'w')\n",
    "for a in L:\n",
    "   f.write(str(a[0]) + ' ' + str(a[1]) + '\\n')\n",
    "f.close()"
   ]
  },
  {
   "cell_type": "code",
   "execution_count": 26,
   "metadata": {
    "collapsed": true
   },
   "outputs": [],
   "source": [
    "# originally from direct_disks_multirun.py\n",
    "def dist(x,y):\n",
    "    d_x = abs(x[0] - y[0]) % 1.0\n",
    "    d_x = min(d_x, 1.0 - d_x)\n",
    "    d_y = abs(x[1] - y[1]) % 1.0\n",
    "    d_y = min(d_y, 1.0 - d_y)\n",
    "    return  math.sqrt(d_x**2 + d_y**2)\n"
   ]
  },
  {
   "cell_type": "code",
   "execution_count": 39,
   "metadata": {
    "collapsed": true
   },
   "outputs": [],
   "source": [
    "import cmath\n",
    "def psi_6(phi1,phi2,phi3,phi4,phi5,phi6):\n",
    "    coeff=complex(1.0/6.0,0)\n",
    "    psi_6=coeff*(cmath.exp(6*1j*phi1)+cmath.exp(6*1j*phi2)+cmath.exp(6*1j*phi3)+cmath.exp(6*1j*phi4)+cmath.exp(6*1j*phi5)+cmath.exp(6*1j*phi6))\n",
    "    return psi_6"
   ]
  },
  {
   "cell_type": "code",
   "execution_count": 41,
   "metadata": {
    "collapsed": false
   },
   "outputs": [
    {
     "data": {
      "text/plain": [
       "(1-6.123233995736765e-16j)"
      ]
     },
     "execution_count": 41,
     "metadata": {},
     "output_type": "execute_result"
    }
   ],
   "source": [
    "# situation a\n",
    "psi_6(0, math.pi/3, 2*math.pi/3, 3*math.pi/3, 4*math.pi/3, 5*math.pi/3)"
   ]
  },
  {
   "cell_type": "code",
   "execution_count": 42,
   "metadata": {
    "collapsed": false
   },
   "outputs": [
    {
     "data": {
      "text/plain": [
       "(-1+1.326907025955162e-15j)"
      ]
     },
     "execution_count": 42,
     "metadata": {},
     "output_type": "execute_result"
    }
   ],
   "source": [
    "# situation b\n",
    "psi_6(math.pi/6, 3*math.pi/6, 5*math.pi/6, 7*math.pi/6, 9*math.pi/6, 11*math.pi/6)"
   ]
  },
  {
   "cell_type": "code",
   "execution_count": 43,
   "metadata": {
    "collapsed": false
   },
   "outputs": [
    {
     "data": {
      "text/plain": [
       "(-2.1462268016908093e-16+1j)"
      ]
     },
     "execution_count": 43,
     "metadata": {},
     "output_type": "execute_result"
    }
   ],
   "source": [
    "# situation c\n",
    "deg2rad=math.pi/180.0\n",
    "phi1=15.0*deg2rad\n",
    "phi2=75.0*deg2rad\n",
    "phi3=135.0*deg2rad\n",
    "phi4=195.0*deg2rad\n",
    "phi5=255.0*deg2rad\n",
    "phi6=315.0*deg2rad\n",
    "\n",
    "psi_6(phi1,phi2,phi3,phi4,phi5,phi6)"
   ]
  },
  {
   "cell_type": "code",
   "execution_count": null,
   "metadata": {
    "collapsed": true
   },
   "outputs": [],
   "source": []
  }
 ],
 "metadata": {
  "kernelspec": {
   "display_name": "Python 2",
   "language": "python",
   "name": "python2"
  },
  "language_info": {
   "codemirror_mode": {
    "name": "ipython",
    "version": 2
   },
   "file_extension": ".py",
   "mimetype": "text/x-python",
   "name": "python",
   "nbconvert_exporter": "python",
   "pygments_lexer": "ipython2",
   "version": "2.7.12"
  }
 },
 "nbformat": 4,
 "nbformat_minor": 1
}
